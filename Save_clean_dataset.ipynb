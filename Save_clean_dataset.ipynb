{
 "cells": [
  {
   "cell_type": "code",
   "execution_count": 1,
   "metadata": {},
   "outputs": [],
   "source": [
    "# import all packages and set plots to be embedded inline\n",
    "import numpy as np\n",
    "import pandas as pd\n",
    "import matplotlib.pyplot as plt\n",
    "import seaborn as sb\n",
    "import glob\n",
    "import os\n",
    "\n",
    "%matplotlib inline"
   ]
  },
  {
   "cell_type": "code",
   "execution_count": 2,
   "metadata": {},
   "outputs": [
    {
     "name": "stdout",
     "output_type": "stream",
     "text": [
      "(1863721, 14)\n"
     ]
    },
    {
     "data": {
      "text/html": [
       "<div>\n",
       "<style scoped>\n",
       "    .dataframe tbody tr th:only-of-type {\n",
       "        vertical-align: middle;\n",
       "    }\n",
       "\n",
       "    .dataframe tbody tr th {\n",
       "        vertical-align: top;\n",
       "    }\n",
       "\n",
       "    .dataframe thead th {\n",
       "        text-align: right;\n",
       "    }\n",
       "</style>\n",
       "<table border=\"1\" class=\"dataframe\">\n",
       "  <thead>\n",
       "    <tr style=\"text-align: right;\">\n",
       "      <th></th>\n",
       "      <th>duration_sec</th>\n",
       "      <th>start_time</th>\n",
       "      <th>end_time</th>\n",
       "      <th>start_station_id</th>\n",
       "      <th>start_station_name</th>\n",
       "      <th>start_station_latitude</th>\n",
       "      <th>start_station_longitude</th>\n",
       "      <th>end_station_id</th>\n",
       "      <th>end_station_name</th>\n",
       "      <th>end_station_latitude</th>\n",
       "      <th>end_station_longitude</th>\n",
       "      <th>bike_id</th>\n",
       "      <th>user_type</th>\n",
       "      <th>bike_share_for_all_trip</th>\n",
       "    </tr>\n",
       "  </thead>\n",
       "  <tbody>\n",
       "    <tr>\n",
       "      <th>0</th>\n",
       "      <td>75284</td>\n",
       "      <td>2018-01-31 22:52:35.2390</td>\n",
       "      <td>2018-02-01 19:47:19.8240</td>\n",
       "      <td>120.0</td>\n",
       "      <td>Mission Dolores Park</td>\n",
       "      <td>37.761420</td>\n",
       "      <td>-122.426435</td>\n",
       "      <td>285.0</td>\n",
       "      <td>Webster St at O'Farrell St</td>\n",
       "      <td>37.783521</td>\n",
       "      <td>-122.431158</td>\n",
       "      <td>2765</td>\n",
       "      <td>Subscriber</td>\n",
       "      <td>No</td>\n",
       "    </tr>\n",
       "    <tr>\n",
       "      <th>1</th>\n",
       "      <td>85422</td>\n",
       "      <td>2018-01-31 16:13:34.3510</td>\n",
       "      <td>2018-02-01 15:57:17.3100</td>\n",
       "      <td>15.0</td>\n",
       "      <td>San Francisco Ferry Building (Harry Bridges Pl...</td>\n",
       "      <td>37.795392</td>\n",
       "      <td>-122.394203</td>\n",
       "      <td>15.0</td>\n",
       "      <td>San Francisco Ferry Building (Harry Bridges Pl...</td>\n",
       "      <td>37.795392</td>\n",
       "      <td>-122.394203</td>\n",
       "      <td>2815</td>\n",
       "      <td>Customer</td>\n",
       "      <td>No</td>\n",
       "    </tr>\n",
       "    <tr>\n",
       "      <th>2</th>\n",
       "      <td>71576</td>\n",
       "      <td>2018-01-31 14:23:55.8890</td>\n",
       "      <td>2018-02-01 10:16:52.1160</td>\n",
       "      <td>304.0</td>\n",
       "      <td>Jackson St at 5th St</td>\n",
       "      <td>37.348759</td>\n",
       "      <td>-121.894798</td>\n",
       "      <td>296.0</td>\n",
       "      <td>5th St at Virginia St</td>\n",
       "      <td>37.325998</td>\n",
       "      <td>-121.877120</td>\n",
       "      <td>3039</td>\n",
       "      <td>Customer</td>\n",
       "      <td>No</td>\n",
       "    </tr>\n",
       "    <tr>\n",
       "      <th>3</th>\n",
       "      <td>61076</td>\n",
       "      <td>2018-01-31 14:53:23.5620</td>\n",
       "      <td>2018-02-01 07:51:20.5000</td>\n",
       "      <td>75.0</td>\n",
       "      <td>Market St at Franklin St</td>\n",
       "      <td>37.773793</td>\n",
       "      <td>-122.421239</td>\n",
       "      <td>47.0</td>\n",
       "      <td>4th St at Harrison St</td>\n",
       "      <td>37.780955</td>\n",
       "      <td>-122.399749</td>\n",
       "      <td>321</td>\n",
       "      <td>Customer</td>\n",
       "      <td>No</td>\n",
       "    </tr>\n",
       "    <tr>\n",
       "      <th>4</th>\n",
       "      <td>39966</td>\n",
       "      <td>2018-01-31 19:52:24.6670</td>\n",
       "      <td>2018-02-01 06:58:31.0530</td>\n",
       "      <td>74.0</td>\n",
       "      <td>Laguna St at Hayes St</td>\n",
       "      <td>37.776435</td>\n",
       "      <td>-122.426244</td>\n",
       "      <td>19.0</td>\n",
       "      <td>Post St at Kearny St</td>\n",
       "      <td>37.788975</td>\n",
       "      <td>-122.403452</td>\n",
       "      <td>617</td>\n",
       "      <td>Subscriber</td>\n",
       "      <td>No</td>\n",
       "    </tr>\n",
       "  </tbody>\n",
       "</table>\n",
       "</div>"
      ],
      "text/plain": [
       "   duration_sec                start_time                  end_time  \\\n",
       "0         75284  2018-01-31 22:52:35.2390  2018-02-01 19:47:19.8240   \n",
       "1         85422  2018-01-31 16:13:34.3510  2018-02-01 15:57:17.3100   \n",
       "2         71576  2018-01-31 14:23:55.8890  2018-02-01 10:16:52.1160   \n",
       "3         61076  2018-01-31 14:53:23.5620  2018-02-01 07:51:20.5000   \n",
       "4         39966  2018-01-31 19:52:24.6670  2018-02-01 06:58:31.0530   \n",
       "\n",
       "   start_station_id                                 start_station_name  \\\n",
       "0             120.0                               Mission Dolores Park   \n",
       "1              15.0  San Francisco Ferry Building (Harry Bridges Pl...   \n",
       "2             304.0                               Jackson St at 5th St   \n",
       "3              75.0                           Market St at Franklin St   \n",
       "4              74.0                              Laguna St at Hayes St   \n",
       "\n",
       "   start_station_latitude  start_station_longitude  end_station_id  \\\n",
       "0               37.761420              -122.426435           285.0   \n",
       "1               37.795392              -122.394203            15.0   \n",
       "2               37.348759              -121.894798           296.0   \n",
       "3               37.773793              -122.421239            47.0   \n",
       "4               37.776435              -122.426244            19.0   \n",
       "\n",
       "                                    end_station_name  end_station_latitude  \\\n",
       "0                         Webster St at O'Farrell St             37.783521   \n",
       "1  San Francisco Ferry Building (Harry Bridges Pl...             37.795392   \n",
       "2                              5th St at Virginia St             37.325998   \n",
       "3                              4th St at Harrison St             37.780955   \n",
       "4                               Post St at Kearny St             37.788975   \n",
       "\n",
       "   end_station_longitude  bike_id   user_type bike_share_for_all_trip  \n",
       "0            -122.431158     2765  Subscriber                      No  \n",
       "1            -122.394203     2815    Customer                      No  \n",
       "2            -121.877120     3039    Customer                      No  \n",
       "3            -122.399749      321    Customer                      No  \n",
       "4            -122.403452      617  Subscriber                      No  "
      ]
     },
     "execution_count": 2,
     "metadata": {},
     "output_type": "execute_result"
    }
   ],
   "source": [
    "folder_name = 'bike_data'\n",
    "frames = [pd.read_csv(f) for f in glob.glob(os.path.join(folder_name, '*.csv'))]\n",
    "data_df = pd.concat(frames, ignore_index=True)\n",
    "print(data_df.shape)\n",
    "data_df.head()"
   ]
  },
  {
   "cell_type": "code",
   "execution_count": 3,
   "metadata": {},
   "outputs": [],
   "source": [
    "data_df ['duration_min'] = data_df ['duration_sec']/60"
   ]
  },
  {
   "cell_type": "code",
   "execution_count": 4,
   "metadata": {},
   "outputs": [
    {
     "data": {
      "text/plain": [
       "count    1.863721e+06\n",
       "mean     1.428838e+01\n",
       "std      3.950631e+01\n",
       "min      1.016667e+00\n",
       "50%      9.266667e+00\n",
       "99%      9.221667e+01\n",
       "max      1.439433e+03\n",
       "Name: duration_min, dtype: float64"
      ]
     },
     "execution_count": 4,
     "metadata": {},
     "output_type": "execute_result"
    }
   ],
   "source": [
    "data_df['duration_min'].describe(percentiles=[.99])\n"
   ]
  },
  {
   "cell_type": "code",
   "execution_count": 5,
   "metadata": {},
   "outputs": [],
   "source": [
    "data_df = data_df.query('duration_min <= 93')"
   ]
  },
  {
   "cell_type": "code",
   "execution_count": 6,
   "metadata": {},
   "outputs": [
    {
     "data": {
      "text/plain": [
       "93.0"
      ]
     },
     "execution_count": 6,
     "metadata": {},
     "output_type": "execute_result"
    }
   ],
   "source": [
    "data_df.duration_min.max()"
   ]
  },
  {
   "cell_type": "code",
   "execution_count": 7,
   "metadata": {},
   "outputs": [],
   "source": [
    "data_df.to_csv('GoBike_2018_clean.csv',index=False)"
   ]
  },
  {
   "cell_type": "code",
   "execution_count": null,
   "metadata": {},
   "outputs": [],
   "source": []
  }
 ],
 "metadata": {
  "kernelspec": {
   "display_name": "Python 3",
   "language": "python",
   "name": "python3"
  },
  "language_info": {
   "codemirror_mode": {
    "name": "ipython",
    "version": 3
   },
   "file_extension": ".py",
   "mimetype": "text/x-python",
   "name": "python",
   "nbconvert_exporter": "python",
   "pygments_lexer": "ipython3",
   "version": "3.6.5"
  }
 },
 "nbformat": 4,
 "nbformat_minor": 4
}
